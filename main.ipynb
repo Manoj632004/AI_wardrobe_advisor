{
 "cells": [
  {
   "cell_type": "code",
   "execution_count": 18,
   "metadata": {},
   "outputs": [],
   "source": [
    "from nltk import tokenize #word_tokenize \n",
    "from nltk.corpus import stopwords\n",
    "import draw  "
   ]
  },
  {
   "cell_type": "code",
   "execution_count": 2,
   "metadata": {},
   "outputs": [
    {
     "data": {
      "text/plain": [
       "'def his_info():\\n    age_ = int(input(\"enter age:\"))\\n    height = int(input(\"enter height in cm:\"))\\n    #choose your face shape w skin colour\\n    #your current hairstyle w haircolour\\n    #choose your body shape\\n    #returns the whole body(on which the clothes are gonna fit)'"
      ]
     },
     "execution_count": 2,
     "metadata": {},
     "output_type": "execute_result"
    }
   ],
   "source": [
    "\"\"\"def his_info():\n",
    "    age_ = int(input(\"enter age:\"))\n",
    "    height = int(input(\"enter height in cm:\"))\n",
    "    #choose your face shape w skin colour\n",
    "    #your current hairstyle w haircolour\n",
    "    #choose your body shape\n",
    "    #returns the whole body(on which the clothes are gonna fit)\"\"\""
   ]
  },
  {
   "cell_type": "code",
   "execution_count": 20,
   "metadata": {},
   "outputs": [],
   "source": [
    "import json\n",
    "f = open(\"basic.json\")\n",
    "fdata = json.load(f)\n",
    "def find_fashion_name(inp):\n",
    "    ffn = None\n",
    "    for ftopic in fdata[\"fashion_topic\"]:\n",
    "        for clues in ftopic.values():\n",
    "            for each_clue in clues:\n",
    "                if each_clue in inp:#######add [count]\n",
    "                    ffn = ftopic.keys()\n",
    "    return ffn\n",
    "\n"
   ]
  },
  {
   "cell_type": "code",
   "execution_count": 1,
   "metadata": {},
   "outputs": [
    {
     "ename": "NameError",
     "evalue": "name 'tokenize' is not defined",
     "output_type": "error",
     "traceback": [
      "\u001b[1;31m---------------------------------------------------------------------------\u001b[0m",
      "\u001b[1;31mNameError\u001b[0m                                 Traceback (most recent call last)",
      "\u001b[1;32mc:\\Users\\Admin\\AppData\\Local\\Programs\\Python\\fashon designer\\main.ipynb Cell 4'\u001b[0m in \u001b[0;36m<cell line: 3>\u001b[1;34m()\u001b[0m\n\u001b[0;32m      <a href='vscode-notebook-cell:/c%3A/Users/Admin/AppData/Local/Programs/Python/fashon%20designer/main.ipynb#ch0000003?line=2'>3</a>\u001b[0m \u001b[39mwhile\u001b[39;00m \u001b[39mTrue\u001b[39;00m:\n\u001b[0;32m      <a href='vscode-notebook-cell:/c%3A/Users/Admin/AppData/Local/Programs/Python/fashon%20designer/main.ipynb#ch0000003?line=3'>4</a>\u001b[0m     main_input \u001b[39m=\u001b[39m \u001b[39minput\u001b[39m(\u001b[39m\"\u001b[39m\u001b[39mexplain the occasion in simple sentence:\u001b[39m\u001b[39m\"\u001b[39m)\n\u001b[1;32m----> <a href='vscode-notebook-cell:/c%3A/Users/Admin/AppData/Local/Programs/Python/fashon%20designer/main.ipynb#ch0000003?line=4'>5</a>\u001b[0m     tokenized \u001b[39m=\u001b[39m tokenize\u001b[39m.\u001b[39mword_tokenize(main_input)\n\u001b[0;32m      <a href='vscode-notebook-cell:/c%3A/Users/Admin/AppData/Local/Programs/Python/fashon%20designer/main.ipynb#ch0000003?line=5'>6</a>\u001b[0m     stop_words \u001b[39m=\u001b[39m \u001b[39mset\u001b[39m(stopwords\u001b[39m.\u001b[39mwords(\u001b[39m'\u001b[39m\u001b[39menglish\u001b[39m\u001b[39m'\u001b[39m))\n\u001b[0;32m      <a href='vscode-notebook-cell:/c%3A/Users/Admin/AppData/Local/Programs/Python/fashon%20designer/main.ipynb#ch0000003?line=6'>7</a>\u001b[0m     filtered_sentence \u001b[39m=\u001b[39m [w \u001b[39mfor\u001b[39;00m w \u001b[39min\u001b[39;00m tokenized \u001b[39mif\u001b[39;00m \u001b[39mnot\u001b[39;00m w\u001b[39m.\u001b[39mlower() \u001b[39min\u001b[39;00m stop_words]\n",
      "\u001b[1;31mNameError\u001b[0m: name 'tokenize' is not defined"
     ]
    }
   ],
   "source": [
    "aset = []\n",
    "bset = []\n",
    "while True:\n",
    "    main_input = input(\"explain the occasion in simple sentence:\")\n",
    "    tokenized = tokenize.word_tokenize(main_input)\n",
    "    stop_words = set(stopwords.words('english'))\n",
    "    filtered_sentence = [w for w in tokenized if not w.lower() in stop_words]\n",
    "    asked = str(find_fashion_name(filtered_sentence))\n",
    "    l = fdata[\"colour_combos_casuals\"]\n",
    "    if  asked == \"dict_keys(['casuals'])\":\n",
    "        print('Your outfits')\n",
    "        for each_combos in l:\n",
    "            aset.append(draw.combo(each_combos[0],each_combos[1]).casuals)\n",
    "        break\n",
    "    elif asked == \"dict_keys(['formals'])\":\n",
    "        print('formal outfits')\n",
    "        break\n",
    "    else:\n",
    "        print(\"sorry, im out of my knowledge for that\")\n",
    "        try_ = input(\"do you wanna try again(y/n)?\")\n",
    "        if try_ == 'yes' or try_ == 'y' or try_ == 'Y':\n",
    "            continue\n",
    "        else:\n",
    "            break"
   ]
  },
  {
   "cell_type": "markdown",
   "metadata": {},
   "source": []
  },
  {
   "cell_type": "code",
   "execution_count": null,
   "metadata": {},
   "outputs": [],
   "source": []
  }
 ],
 "metadata": {
  "interpreter": {
   "hash": "a42ccb73e7d9bfdf27e036f1d2b8b681e55fc0743cc5586bc2474d4a60f4b886"
  },
  "kernelspec": {
   "display_name": "Python 3.10.4 64-bit",
   "language": "python",
   "name": "python3"
  },
  "language_info": {
   "codemirror_mode": {
    "name": "ipython",
    "version": 3
   },
   "file_extension": ".py",
   "mimetype": "text/x-python",
   "name": "python",
   "nbconvert_exporter": "python",
   "pygments_lexer": "ipython3",
   "version": "3.10.4"
  },
  "orig_nbformat": 4
 },
 "nbformat": 4,
 "nbformat_minor": 2
}
